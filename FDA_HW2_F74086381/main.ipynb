{
 "cells": [
  {
   "cell_type": "markdown",
   "metadata": {},
   "source": [
    "# 作業 2\n",
    "\n",
    "本作業使用 [Kaggle Titanic](https://www.kaggle.com/c/titanic/overview) 所提供的資料，根據鐵達尼號乘客資料預測生還者。\n",
    "我們只使用 `train.csv` 進行生還者預測（只有 `train.csv` 才有答案），而加分題需要額外使用 `test.csv` 並提交至 [Kaggle Titanic](https://www.kaggle.com/c/titanic/overview) 進行評分。\n",
    "\n",
    "本作業需要先學習[程式教材](https://github.com/IKMLab/course_material)中的以下部份：\n",
    "\n",
    "- [jupyter-基本功能](https://github.com/IKMLab/course_material/blob/master/jupyter-%E5%9F%BA%E6%9C%AC%E5%8A%9F%E8%83%BD.ipynb)\n",
    "- [python-入門語法](https://github.com/IKMLab/course_material/blob/master/python-%E5%85%A5%E9%96%80%E8%AA%9E%E6%B3%95.ipynb)\n",
    "- [numpy-基本功能](https://github.com/IKMLab/course_material/blob/master/numpy-%E5%9F%BA%E6%9C%AC%E5%8A%9F%E8%83%BD.ipynb)\n",
    "- [pandas-基本功能](https://github.com/IKMLab/course_material/blob/master/pandas-%E5%9F%BA%E6%9C%AC%E5%8A%9F%E8%83%BD.ipynb)\n",
    "- [matplotlib-資料視覺化](https://github.com/IKMLab/course_material/blob/master/matplotlib-%E8%B3%87%E6%96%99%E8%A6%96%E8%A6%BA%E5%8C%96.ipynb)\n",
    "- [scikit-learn-基本功能](https://github.com/IKMLab/course_material/blob/master/scikit-learn-%E5%9F%BA%E6%9C%AC%E5%8A%9F%E8%83%BD.ipynb)"
   ]
  },
  {
   "cell_type": "markdown",
   "metadata": {},
   "source": [
    "## 繳交規則\n",
    "\n",
    "1. 請將**當前資料夾**命名為 `FDA_HW2_你的學號`\n",
    "    - 例如：`FDA_HW2_F12345678`\n",
    "    - 所有**英文**都必須**大寫**\n",
    "    - 所有**文字**都必須在 **ASCII** 範圍\n",
    "2. 請將本檔案命名為 `main.ipynb`\n",
    "3. 請描述開發所需要的**環境**，包含：\n",
    "    - **作業系統**與**發行版本**\n",
    "        - 例如：Windows、Mac、Linux 等\n",
    "        - 需要填寫系統**名稱**與**版本**\n",
    "    - **程式執行環境**\n",
    "        - 例如：jupyter、kaggle kernel、colab 等\n",
    "        - 如果是 jupyter 請**填寫**版本\n",
    "        - 如果是雲端計算資源**不需填寫**版本\n",
    "        - 請**勿**使用**付費**資源，助教薪水**微薄**\n",
    "    - **python 版本**\n",
    "        - 例如：3.6.9\n",
    "        - 填寫**至少**能執行的版本即可\n",
    "    - **安裝環境**\n",
    "        - 例如使用 `pip`、`conda` 等\n",
    "        - 助教會以虛擬環境測試\n",
    "    - **安裝套件**與**版本**\n",
    "        - 請使用 `requirements.txt`\n",
    "        - 助教會以虛擬環境測試\n",
    "        - 請**不要**附上**多餘**的套件\n",
    "    - **計算資源**\n",
    "        - 使用 CPU **數量**\n",
    "        - GPU 版本\n",
    "    - **執行**所需花費**時間**\n",
    "        - 請**不要更改**擁有註解 `請勿更動此區塊程式碼` 的程式碼區塊\n",
    "4. 請**保留執行結果**讓助教可以直接觀看\n",
    "    - 請記得使用 **Save**\n",
    "    - **雲端**計算資源請**儲存**後**下載**檔案\n",
    "    - 所有程式區塊**必須依序執行**\n",
    "    - 請**不要**保留**多餘**的程式區塊\n",
    "5. 請**控制隨機亂數**讓實驗結果可以**重現**\n",
    "    - 關鍵字：**random seed**\n",
    "6. 請**不要**上傳**多餘**的檔案\n",
    "    - 不要上傳**資料**檔案，包含 `train.csv` 與 `test.csv` 等\n",
    "    - 不要上傳**隱藏**檔案，包含 `.git`、`.ipynb_checkpoints`, `.vscode`, `.DS_Store` 等\n",
    "    - 不要上傳**虛擬環境**\n",
    "7. 請附上**參考連結**\n",
    "    - 可以參考公開的 kernel\n",
    "    - 沒附上連結者視同**瓢竊**\n",
    "    - 使用的**演算法**請附上來源，並大致描述概念\n",
    "8. 請**壓縮**成 `zip` 並上傳至 [moodle](http://moodle.ncku.edu.tw/)\n",
    "    - 例如 `FDA_HW2_F12345678.zip`"
   ]
  },
  {
   "cell_type": "markdown",
   "metadata": {},
   "source": [
    "## 評分標準\n",
    "\n",
    "如果有參考其他作法卻沒有附上來源，則直接視為瓢竊，得分為0分。\n",
    "\n",
    "### 扣分規則\n",
    "> 沒滿足以下條件將斟酌扣分\n",
    "\n",
    "|規則|沒滿足規則失分|\n",
    "|-|-|\n",
    "|資料夾名稱符合繳交規則|- 5|\n",
    "|檔案名稱符合繳交規則|- 5|\n",
    "|填寫環境需求|- 0|\n",
    "|填寫計算資源|- 0|\n",
    "|提供 `requirements.txt`|- 5|\n",
    "|將資料夾壓縮成 `zip`|- 5|\n",
    "|不更改擁有註解 `請勿更動此區塊程式碼` 的程式碼區塊|- 5|\n",
    "|計算並顯示執行時間|- 5|\n",
    "|控制隨機亂數讓實驗結果可以重現|- 5|\n",
    "\n",
    "### 得分規則\n",
    "\n",
    "|規則|滿足規則得分|\n",
    "|-|-|\n",
    "|使用 `markdown` 區塊描述資料分析內容|+2|\n",
    "|選擇使用 `Sex` 與 `Age` 以外的特徵作為輸入並以 `markdown` 區塊描述方法與理由|+2|\n",
    "|處理缺失值並以 `markdown` 區塊描述方法與理由|+2|\n",
    "|轉換數值資料並以 `markdown` 區塊描述方法與理由|+2|\n",
    "|轉換類別資料並以 `markdown` 區塊描述方法與理由|+2|\n",
    "|使用其他方法進行資料前處理並以 `markdown` 區塊描述理由|+10|\n",
    "|以資料視覺化輔助資料分析並以 `markdown` 區塊輔助描述圖中資訊|+10|\n",
    "|使用決策樹以外的模型進行實驗|+10|\n",
    "|使用 `markdown` 區塊簡單解釋模型演算法|+8|\n",
    "|解釋模型超參數的選擇理由|+2|\n",
    "|使用 5-fold cross validation 輸出平均準確度|+2|\n",
    "|使用所有資料訓練模型並輸出準確度|+2|\n",
    "|使用多個不同模型進行實驗|+8|\n",
    "|使用 ensemble 進行實驗|+8|\n",
    "|試著讓其中一個實驗模型 overfitting（訓練與驗證準確度差距 > $10\\%$）|+8|\n",
    "|試著讓其中一個實驗模型 underfitting（訓練準確度約 $50\\% \\pm 10\\%$）|+2|\n",
    "|準確度超越課堂範例（$81\\%$）|+7|\n",
    "|將最佳實驗結果套用到 `test.csv` 並截圖 Kaggle 評分|+13|\n",
    "|(Bouns) 將最佳實驗結果套用到 `test.csv` 並取得 Kaggle Public Leaderboard Top $10\\%$|+10|\n",
    "|(Bouns) 將最佳實驗結果套用到 `test.csv` 並取得 Kaggle Public Leaderboard Top $5\\%$|+15|\n",
    "|(Bouns) 將最佳實驗結果套用到 `test.csv` 並取得 Kaggle Public Leaderboard Top $1\\%$|+20|"
   ]
  },
  {
   "cell_type": "markdown",
   "metadata": {},
   "source": [
    "## 環境\n",
    "\n",
    "請填寫當前執行使用的環境。\n",
    "\n",
    "|環境|名稱|版本|\n",
    "|-|-|-|\n",
    "|作業系統|Windows|10 家用版 64位元|\n",
    "|程式執行環境|jupyter notebook|6.3.0|\n",
    "|python 版本|python3|3.8.8|\n",
    "|安裝環境|pip|22.0.4|"
   ]
  },
  {
   "cell_type": "markdown",
   "metadata": {},
   "source": [
    "## 安裝\n",
    "\n",
    "請填寫安裝套件需要的指令\n",
    "\n",
    "```sh\n",
    "pip install -r requirements.txt\n",
    "```"
   ]
  },
  {
   "cell_type": "markdown",
   "metadata": {},
   "source": [
    "## 計算資源\n",
    "\n",
    "請填寫執行程式所需要的計算資源，請確保所有資源限制在單一個人桌上型電腦且能夠以總市價低於 5 萬的手段取得。\n",
    "\n",
    "|計算資源|答案|\n",
    "|-|-|\n",
    "|使用 CPU 核心數|4|\n",
    "|記憶體需求|$\\leq 16$GB|\n",
    "|有無使用 GPU|無|\n",
    "|GPU 版本|無|\n",
    "|GPU 記憶體需求|$\\leq 1$GB|"
   ]
  },
  {
   "cell_type": "markdown",
   "metadata": {},
   "source": [
    "## 參考連結\n",
    "\n",
    "- 有無參考他人之實驗結果：有\n",
    "- 參考連結：\n",
    "\n",
    "- https://ithelp.ithome.com.tw/articles/10272521\n",
    "\n",
    "- https://ithelp.ithome.com.tw/articles/10273073\n",
    "\n",
    "- https://ithelp.ithome.com.tw/articles/10273799"
   ]
  },
  {
   "cell_type": "code",
   "execution_count": 1,
   "metadata": {},
   "outputs": [],
   "source": [
    "# 請勿更動此區塊程式碼\n",
    "\n",
    "import time\n",
    "import numpy as np\n",
    "import pandas as pd\n",
    "\n",
    "EXECUTION_START_TIME = time.time() # 計算執行時間\n",
    "\n",
    "df = pd.read_csv('train.csv')      # 讀取資料，請勿更改路徑"
   ]
  },
  {
   "cell_type": "markdown",
   "metadata": {},
   "source": [
    "## 資料分析與前處理\n",
    "\n",
    "請在此區塊後使用**一個或多個區塊**進行資料分析與前處理，項目可以包含：\n",
    "\n",
    "- 資料視覺化\n",
    "- 相關係數\n",
    "- 決定輸入特徵\n",
    "- 處理缺失值\n",
    "- 轉換數值\n",
    "- 轉換類別\n",
    "- 其他\n",
    "\n",
    "請以 `markdown` 簡單描述**流程**、**方法**與**原因**：\n",
    "\n",
    "1. 觀察...，發現...\n",
    "2. 填補...，策略...\n",
    "3. 轉換...，原因..."
   ]
  },
  {
   "cell_type": "code",
   "execution_count": 2,
   "metadata": {},
   "outputs": [
    {
     "data": {
      "text/html": [
       "<div>\n",
       "<style scoped>\n",
       "    .dataframe tbody tr th:only-of-type {\n",
       "        vertical-align: middle;\n",
       "    }\n",
       "\n",
       "    .dataframe tbody tr th {\n",
       "        vertical-align: top;\n",
       "    }\n",
       "\n",
       "    .dataframe thead th {\n",
       "        text-align: right;\n",
       "    }\n",
       "</style>\n",
       "<table border=\"1\" class=\"dataframe\">\n",
       "  <thead>\n",
       "    <tr style=\"text-align: right;\">\n",
       "      <th></th>\n",
       "      <th>PassengerId</th>\n",
       "      <th>Survived</th>\n",
       "      <th>Pclass</th>\n",
       "      <th>Name</th>\n",
       "      <th>Sex</th>\n",
       "      <th>Age</th>\n",
       "      <th>SibSp</th>\n",
       "      <th>Parch</th>\n",
       "      <th>Ticket</th>\n",
       "      <th>Fare</th>\n",
       "      <th>Cabin</th>\n",
       "      <th>Embarked</th>\n",
       "    </tr>\n",
       "  </thead>\n",
       "  <tbody>\n",
       "    <tr>\n",
       "      <th>0</th>\n",
       "      <td>1</td>\n",
       "      <td>0</td>\n",
       "      <td>3</td>\n",
       "      <td>Braund, Mr. Owen Harris</td>\n",
       "      <td>male</td>\n",
       "      <td>22.0</td>\n",
       "      <td>1</td>\n",
       "      <td>0</td>\n",
       "      <td>A/5 21171</td>\n",
       "      <td>7.2500</td>\n",
       "      <td>NaN</td>\n",
       "      <td>S</td>\n",
       "    </tr>\n",
       "    <tr>\n",
       "      <th>1</th>\n",
       "      <td>2</td>\n",
       "      <td>1</td>\n",
       "      <td>1</td>\n",
       "      <td>Cumings, Mrs. John Bradley (Florence Briggs Th...</td>\n",
       "      <td>female</td>\n",
       "      <td>38.0</td>\n",
       "      <td>1</td>\n",
       "      <td>0</td>\n",
       "      <td>PC 17599</td>\n",
       "      <td>71.2833</td>\n",
       "      <td>C85</td>\n",
       "      <td>C</td>\n",
       "    </tr>\n",
       "    <tr>\n",
       "      <th>2</th>\n",
       "      <td>3</td>\n",
       "      <td>1</td>\n",
       "      <td>3</td>\n",
       "      <td>Heikkinen, Miss. Laina</td>\n",
       "      <td>female</td>\n",
       "      <td>26.0</td>\n",
       "      <td>0</td>\n",
       "      <td>0</td>\n",
       "      <td>STON/O2. 3101282</td>\n",
       "      <td>7.9250</td>\n",
       "      <td>NaN</td>\n",
       "      <td>S</td>\n",
       "    </tr>\n",
       "    <tr>\n",
       "      <th>3</th>\n",
       "      <td>4</td>\n",
       "      <td>1</td>\n",
       "      <td>1</td>\n",
       "      <td>Futrelle, Mrs. Jacques Heath (Lily May Peel)</td>\n",
       "      <td>female</td>\n",
       "      <td>35.0</td>\n",
       "      <td>1</td>\n",
       "      <td>0</td>\n",
       "      <td>113803</td>\n",
       "      <td>53.1000</td>\n",
       "      <td>C123</td>\n",
       "      <td>S</td>\n",
       "    </tr>\n",
       "    <tr>\n",
       "      <th>4</th>\n",
       "      <td>5</td>\n",
       "      <td>0</td>\n",
       "      <td>3</td>\n",
       "      <td>Allen, Mr. William Henry</td>\n",
       "      <td>male</td>\n",
       "      <td>35.0</td>\n",
       "      <td>0</td>\n",
       "      <td>0</td>\n",
       "      <td>373450</td>\n",
       "      <td>8.0500</td>\n",
       "      <td>NaN</td>\n",
       "      <td>S</td>\n",
       "    </tr>\n",
       "    <tr>\n",
       "      <th>...</th>\n",
       "      <td>...</td>\n",
       "      <td>...</td>\n",
       "      <td>...</td>\n",
       "      <td>...</td>\n",
       "      <td>...</td>\n",
       "      <td>...</td>\n",
       "      <td>...</td>\n",
       "      <td>...</td>\n",
       "      <td>...</td>\n",
       "      <td>...</td>\n",
       "      <td>...</td>\n",
       "      <td>...</td>\n",
       "    </tr>\n",
       "    <tr>\n",
       "      <th>886</th>\n",
       "      <td>887</td>\n",
       "      <td>0</td>\n",
       "      <td>2</td>\n",
       "      <td>Montvila, Rev. Juozas</td>\n",
       "      <td>male</td>\n",
       "      <td>27.0</td>\n",
       "      <td>0</td>\n",
       "      <td>0</td>\n",
       "      <td>211536</td>\n",
       "      <td>13.0000</td>\n",
       "      <td>NaN</td>\n",
       "      <td>S</td>\n",
       "    </tr>\n",
       "    <tr>\n",
       "      <th>887</th>\n",
       "      <td>888</td>\n",
       "      <td>1</td>\n",
       "      <td>1</td>\n",
       "      <td>Graham, Miss. Margaret Edith</td>\n",
       "      <td>female</td>\n",
       "      <td>19.0</td>\n",
       "      <td>0</td>\n",
       "      <td>0</td>\n",
       "      <td>112053</td>\n",
       "      <td>30.0000</td>\n",
       "      <td>B42</td>\n",
       "      <td>S</td>\n",
       "    </tr>\n",
       "    <tr>\n",
       "      <th>888</th>\n",
       "      <td>889</td>\n",
       "      <td>0</td>\n",
       "      <td>3</td>\n",
       "      <td>Johnston, Miss. Catherine Helen \"Carrie\"</td>\n",
       "      <td>female</td>\n",
       "      <td>NaN</td>\n",
       "      <td>1</td>\n",
       "      <td>2</td>\n",
       "      <td>W./C. 6607</td>\n",
       "      <td>23.4500</td>\n",
       "      <td>NaN</td>\n",
       "      <td>S</td>\n",
       "    </tr>\n",
       "    <tr>\n",
       "      <th>889</th>\n",
       "      <td>890</td>\n",
       "      <td>1</td>\n",
       "      <td>1</td>\n",
       "      <td>Behr, Mr. Karl Howell</td>\n",
       "      <td>male</td>\n",
       "      <td>26.0</td>\n",
       "      <td>0</td>\n",
       "      <td>0</td>\n",
       "      <td>111369</td>\n",
       "      <td>30.0000</td>\n",
       "      <td>C148</td>\n",
       "      <td>C</td>\n",
       "    </tr>\n",
       "    <tr>\n",
       "      <th>890</th>\n",
       "      <td>891</td>\n",
       "      <td>0</td>\n",
       "      <td>3</td>\n",
       "      <td>Dooley, Mr. Patrick</td>\n",
       "      <td>male</td>\n",
       "      <td>32.0</td>\n",
       "      <td>0</td>\n",
       "      <td>0</td>\n",
       "      <td>370376</td>\n",
       "      <td>7.7500</td>\n",
       "      <td>NaN</td>\n",
       "      <td>Q</td>\n",
       "    </tr>\n",
       "  </tbody>\n",
       "</table>\n",
       "<p>891 rows × 12 columns</p>\n",
       "</div>"
      ],
      "text/plain": [
       "     PassengerId  Survived  Pclass  \\\n",
       "0              1         0       3   \n",
       "1              2         1       1   \n",
       "2              3         1       3   \n",
       "3              4         1       1   \n",
       "4              5         0       3   \n",
       "..           ...       ...     ...   \n",
       "886          887         0       2   \n",
       "887          888         1       1   \n",
       "888          889         0       3   \n",
       "889          890         1       1   \n",
       "890          891         0       3   \n",
       "\n",
       "                                                  Name     Sex   Age  SibSp  \\\n",
       "0                              Braund, Mr. Owen Harris    male  22.0      1   \n",
       "1    Cumings, Mrs. John Bradley (Florence Briggs Th...  female  38.0      1   \n",
       "2                               Heikkinen, Miss. Laina  female  26.0      0   \n",
       "3         Futrelle, Mrs. Jacques Heath (Lily May Peel)  female  35.0      1   \n",
       "4                             Allen, Mr. William Henry    male  35.0      0   \n",
       "..                                                 ...     ...   ...    ...   \n",
       "886                              Montvila, Rev. Juozas    male  27.0      0   \n",
       "887                       Graham, Miss. Margaret Edith  female  19.0      0   \n",
       "888           Johnston, Miss. Catherine Helen \"Carrie\"  female   NaN      1   \n",
       "889                              Behr, Mr. Karl Howell    male  26.0      0   \n",
       "890                                Dooley, Mr. Patrick    male  32.0      0   \n",
       "\n",
       "     Parch            Ticket     Fare Cabin Embarked  \n",
       "0        0         A/5 21171   7.2500   NaN        S  \n",
       "1        0          PC 17599  71.2833   C85        C  \n",
       "2        0  STON/O2. 3101282   7.9250   NaN        S  \n",
       "3        0            113803  53.1000  C123        S  \n",
       "4        0            373450   8.0500   NaN        S  \n",
       "..     ...               ...      ...   ...      ...  \n",
       "886      0            211536  13.0000   NaN        S  \n",
       "887      0            112053  30.0000   B42        S  \n",
       "888      2        W./C. 6607  23.4500   NaN        S  \n",
       "889      0            111369  30.0000  C148        C  \n",
       "890      0            370376   7.7500   NaN        Q  \n",
       "\n",
       "[891 rows x 12 columns]"
      ]
     },
     "execution_count": 2,
     "metadata": {},
     "output_type": "execute_result"
    }
   ],
   "source": [
    "df # 看一下大概有哪些資料可以應用"
   ]
  },
  {
   "cell_type": "markdown",
   "metadata": {},
   "source": [
    "## 資料分析\n",
    "\n",
    "經過觀察，跟Survived比較無關的應該有以下 : \n",
    "- PassengerId 乘客編號\n",
    "- Name 人名\n",
    "- Ticket 票的編號\n",
    "- Carbin 船艙的號碼\n",
    "\n",
    "這些都是屬於比較跟個人屬性無關的資料，因此先把這幾項剃除，形成一個新的資料集\n",
    "\n",
    "## 輸入特徵\n",
    "\n",
    "新的資料集包含：\n",
    "- PClass   : 猜測如果是等級較高的顧客可能較優先被獲救。\n",
    "- Sex      : 性別可能跟獲救的優先程度有關係。\n",
    "- Age      : 年齡可能跟逃跑速度有關係。\n",
    "- SibSp    : 手足、配偶數量，不確定有沒有影響但可能有關，因為可能會捨不得丟下家人自己逃跑。\n",
    "- Parch    : 不確定父母和孩子的數量有沒有影響，但可能有關，因為可能會捨不得丟下家人自己逃跑。\n",
    "- Fare     : 猜測票價較高的顧客可能較優先被獲救。\n",
    "- Embarked : 登船點，可能跟存活率也有關，像是離逃跑路徑比較近之類的。"
   ]
  },
  {
   "cell_type": "code",
   "execution_count": 3,
   "metadata": {},
   "outputs": [
    {
     "name": "stdout",
     "output_type": "stream",
     "text": [
      "     Pclass     Sex   Age  SibSp  Parch     Fare Embarked\n",
      "0         3    male  22.0      1      0   7.2500        S\n",
      "1         1  female  38.0      1      0  71.2833        C\n",
      "2         3  female  26.0      0      0   7.9250        S\n",
      "3         1  female  35.0      1      0  53.1000        S\n",
      "4         3    male  35.0      0      0   8.0500        S\n",
      "..      ...     ...   ...    ...    ...      ...      ...\n",
      "886       2    male  27.0      0      0  13.0000        S\n",
      "887       1  female  19.0      0      0  30.0000        S\n",
      "888       3  female   NaN      1      2  23.4500        S\n",
      "889       1    male  26.0      0      0  30.0000        C\n",
      "890       3    male  32.0      0      0   7.7500        Q\n",
      "\n",
      "[891 rows x 7 columns]\n",
      "<class 'pandas.core.frame.DataFrame'>\n",
      "RangeIndex: 891 entries, 0 to 890\n",
      "Data columns (total 7 columns):\n",
      " #   Column    Non-Null Count  Dtype  \n",
      "---  ------    --------------  -----  \n",
      " 0   Pclass    891 non-null    int64  \n",
      " 1   Sex       891 non-null    object \n",
      " 2   Age       714 non-null    float64\n",
      " 3   SibSp     891 non-null    int64  \n",
      " 4   Parch     891 non-null    int64  \n",
      " 5   Fare      891 non-null    float64\n",
      " 6   Embarked  889 non-null    object \n",
      "dtypes: float64(2), int64(3), object(2)\n",
      "memory usage: 48.9+ KB\n"
     ]
    }
   ],
   "source": [
    "Survived = df['Survived']          # Survived為結果 先把它獨立出來\n",
    "data = df[['Pclass', 'Sex', 'Age', 'SibSp', 'Parch', 'Fare', 'Embarked']] # 重新整理新的資料集\n",
    "print(data)\n",
    "data.info()\n",
    "\n",
    "# 因最後加分題會用到，所以先把test.csv和train.csv放在同個data frame一起做處理\n",
    "test_data = pd.read_csv('test.csv')\n",
    "test_PID = test_data['PassengerId']\n",
    "test_data = test_data[['Pclass', 'Sex', 'Age', 'SibSp', 'Parch', 'Fare', 'Embarked']]"
   ]
  },
  {
   "cell_type": "markdown",
   "metadata": {},
   "source": [
    "## 處理缺失值\n",
    "\n",
    "從train.csv裡可以看到，在Age這個欄位有蠻多的數值缺失(Embarked也有，這個後面再做處理)，為了要訓練模型，我們必須填補這些缺失值。\n",
    "\n",
    "要填補這些缺失值必須有一定的策略，所以我想要先看一下他的數值分布情況如何再決定："
   ]
  },
  {
   "cell_type": "code",
   "execution_count": 4,
   "metadata": {},
   "outputs": [
    {
     "name": "stdout",
     "output_type": "stream",
     "text": [
      "oldest :  80.0  years old\n",
      "youngest :  0.42  years old\n"
     ]
    },
    {
     "data": {
      "image/png": "[encoded data removed]",
      "text/plain": [
       "<Figure size 432x288 with 1 Axes>"
      ]
     },
     "metadata": {
      "needs_background": "light"
     },
     "output_type": "display_data"
    }
   ],
   "source": [
    "import matplotlib.pyplot as mlt # 匯入matpltlib\n",
    "import seaborn as sns # 匯入seaborn\n",
    "\n",
    "sns.barplot(x = data['Age'], y = Survived) # 利用bar chart觀察Age和Survived的關係\n",
    "\n",
    "print(\"oldest : \", max(data['Age']), \" years old\") # 找出最大的歲數\n",
    "print(\"youngest : \", min(data['Age']), \" years old\") # 找出最小的歲數"
   ]
  },
  {
   "cell_type": "markdown",
   "metadata": {},
   "source": [
    "這邊發現如果直接這樣plot出來有點難發現其中的關係，所以想說可以把他做個分組，就是劃區間，這樣可能比較好看出來。\n",
    "\n",
    "我上面有先找了一下他最大和最小歲數的資料，大概是在0~80歲之間，所以這邊利用qcut把它劃分成8組："
   ]
  },
  {
   "cell_type": "code",
   "execution_count": 5,
   "metadata": {},
   "outputs": [
    {
     "data": {
      "text/plain": [
       "[(20.125, 24.0], (32.312, 38.0], (24.0, 28.0], NaN, (47.0, 80.0], (0.419, 16.0], (16.0, 20.125], (38.0, 47.0], (28.0, 32.312]]\n",
       "Categories (8, interval[float64]): [(0.419, 16.0] < (16.0, 20.125] < (20.125, 24.0] < (24.0, 28.0] < (28.0, 32.312] < (32.312, 38.0] < (38.0, 47.0] < (47.0, 80.0]]"
      ]
     },
     "execution_count": 5,
     "metadata": {},
     "output_type": "execute_result"
    },
    {
     "data": {
      "image/png": "[encoded data removed]",
      "text/plain": [
       "<Figure size 432x288 with 1 Axes>"
      ]
     },
     "metadata": {
      "needs_background": "light"
     },
     "output_type": "display_data"
    }
   ],
   "source": [
    "Age_qcut = pd.qcut(data['Age'], 8) # 利用qcut將Age切成8個區間\n",
    "sns.barplot(x = Age_qcut, y = Survived) # 利用bar chart觀察力用qcut劃分區間後，Age和Survived的分布情況\n",
    "Age_qcut.unique()"
   ]
  },
  {
   "cell_type": "markdown",
   "metadata": {},
   "source": [
    "## 轉換數值資料\n",
    "\n",
    "這邊可以明顯明顯看出在第一個區間，也就是16歲以下的存活率較高，其他區間則是都差不多。\n",
    "\n",
    "因此這邊感覺要填補缺失值的話，把缺失值填補在16歲以上的區間會比較適合，不然都填在16歲以下的話可能會導致存活率大大提升。\n",
    "\n",
    "為了達到我想要的這個效果，我打算乾脆把Age重新劃分成兩個區間，分別是16歲以下為0、16歲以上為1，然後把缺失值都填1，方法是使用Pandas的DataFrame.loc來做："
   ]
  },
  {
   "cell_type": "code",
   "execution_count": 6,
   "metadata": {},
   "outputs": [
    {
     "data": {
      "text/plain": [
       "0      1.0\n",
       "1      1.0\n",
       "2      1.0\n",
       "3      1.0\n",
       "4      1.0\n",
       "      ... \n",
       "886    1.0\n",
       "887    1.0\n",
       "888    1.0\n",
       "889    1.0\n",
       "890    1.0\n",
       "Name: Age, Length: 891, dtype: float64"
      ]
     },
     "execution_count": 6,
     "metadata": {},
     "output_type": "execute_result"
    }
   ],
   "source": [
    "pd.options.mode.chained_assignment = None # not to warn\n",
    "\n",
    "data.loc[data['Age'] <= 16, 'Age'] = 0 # 將16歲(包含16歲)以下的區間設為0\n",
    "data.loc[data['Age'] != 0, 'Age'] = 1 # 將16歲以上的區間設為1\n",
    "\n",
    "##\n",
    "test_data.loc[data['Age'] <= 16, 'Age'] = 0 # 將16歲(包含16歲)以下的區間設為0\n",
    "test_data.loc[data['Age'] != 0, 'Age'] = 1 # 將16歲以上的區間設為1\n",
    "##\n",
    "\n",
    "data['Age']"
   ]
  },
  {
   "cell_type": "markdown",
   "metadata": {},
   "source": [
    "## 轉換類別資料\n",
    "\n",
    "為了方便資料必須是數值資料才能夠拿去train，這邊先把\"Sex\"這一項從female、male，改成0、1\n",
    "\n",
    "方法採取利用sklearn提供的LabelEncoder來實做："
   ]
  },
  {
   "cell_type": "code",
   "execution_count": 7,
   "metadata": {},
   "outputs": [],
   "source": [
    "from sklearn.preprocessing import LabelEncoder # 匯入 Label Encoder\n",
    "\n",
    "le = LabelEncoder()\n",
    "data['Sex'] = le.fit_transform(data['Sex']) # 使用Label Encoder將Sex資料轉換為0、1的數值資料\n",
    "data['Sex'] # 顯示已確認轉換結果\n",
    "\n",
    "##\n",
    "test_data['Sex'] = le.fit_transform(test_data['Sex'])\n",
    "##"
   ]
  },
  {
   "cell_type": "markdown",
   "metadata": {},
   "source": [
    "除了\"Sex\"以外，\"Embarked\"這筆資料也是屬於類別資料，因此一樣要把他進行類別的轉換。\n",
    "\n",
    "但是前面有提到，\"Embarked\"一樣有資料缺失的問題，只不過他只少了兩筆，所以我打算找一下三種類別(S、C、Q)哪一個比較多(眾數)，然後把缺失的地方補成眾數就好，比較不會有影響預測結果的疑慮："
   ]
  },
  {
   "cell_type": "code",
   "execution_count": 8,
   "metadata": {},
   "outputs": [
    {
     "data": {
      "text/plain": [
       "<AxesSubplot:xlabel='Embarked', ylabel='count'>"
      ]
     },
     "execution_count": 8,
     "metadata": {},
     "output_type": "execute_result"
    },
    {
     "data": {
      "image/png": "[encoded data removed]",
      "text/plain": [
       "<Figure size 432x288 with 1 Axes>"
      ]
     },
     "metadata": {
      "needs_background": "light"
     },
     "output_type": "display_data"
    }
   ],
   "source": [
    "import warnings\n",
    "warnings.simplefilter(action=\"ignore\", category=FutureWarning) # ignore warning\n",
    "\n",
    "sns.countplot(data['Embarked']) # 觀察Embarked的分布情況"
   ]
  },
  {
   "cell_type": "markdown",
   "metadata": {},
   "source": [
    "可以很清楚的觀察到在\"Embarked\"資料中，\"S\"是屬於眾數，因此這邊把空值填入S後，再拿去做和\"Sex\"一樣的類別轉換，一樣透過LabelEncoder，將C、Q、S分別換成0、1、2："
   ]
  },
  {
   "cell_type": "code",
   "execution_count": 9,
   "metadata": {},
   "outputs": [
    {
     "data": {
      "text/plain": [
       "0      2\n",
       "1      0\n",
       "2      2\n",
       "3      2\n",
       "4      2\n",
       "      ..\n",
       "886    2\n",
       "887    2\n",
       "888    2\n",
       "889    0\n",
       "890    1\n",
       "Name: Embarked, Length: 891, dtype: int32"
      ]
     },
     "execution_count": 9,
     "metadata": {},
     "output_type": "execute_result"
    }
   ],
   "source": [
    "data['Embarked'] = data['Embarked'].fillna('S') # 將空值欄位填入'S'\n",
    "data['Embarked'] = le.fit_transform(data['Embarked']) # 使用Label Encoder將Sex資料轉換為0、1的數值資料\n",
    "\n",
    "##\n",
    "test_data['Embarked'] = test_data['Embarked'].fillna('S') # 將空值欄位填入'S'\n",
    "test_data['Embarked'] = le.fit_transform(test_data['Embarked']) # 使用Label Encoder將Sex資料轉換為0、1的數值資料\n",
    "##\n",
    "\n",
    "data['Embarked'] # 顯示已確認轉換結果"
   ]
  },
  {
   "cell_type": "markdown",
   "metadata": {},
   "source": [
    "## 中場整理\n",
    "\n",
    "目前分析、處理好的資料有：\n",
    "- Sex\n",
    "- Age\n",
    "- Embarked\n",
    "\n",
    "還沒分析、處理的資料有：\n",
    "- PClass\n",
    "- SibSp\n",
    "- Parch\n",
    "- Fare\n",
    "\n",
    "在還沒分析好的資料中，在我最一開始的猜測裡，我猜測PClass和Fare分別可能因為顧客等級較高或者是票價較高而比較優先獲救，我覺得這兩個都跟顧客的財力、地位方面比較有關係，所以會放在一起分析。\n",
    "\n",
    "另外，SibSp和Parch我也都猜測是因為有可能不想拋棄自己的家人所以不願獨立獲救，因而降低存活率，又或者因為全家一起得救所以存活率較高，所以我也打算把這兩筆資料放在一起分析。\n",
    "\n",
    "首先我想先看PClass和Fare的部分，但因為Fare屬於分布比較廣的資料，因此我打算像處理Age那樣先把Fare劃成幾個區間，在劃區間之前先來看一下他的分佈情況："
   ]
  },
  {
   "cell_type": "code",
   "execution_count": 10,
   "metadata": {},
   "outputs": [
    {
     "data": {
      "text/plain": [
       "<AxesSubplot:xlabel='Fare', ylabel='Count'>"
      ]
     },
     "execution_count": 10,
     "metadata": {},
     "output_type": "execute_result"
    },
    {
     "data": {
      "image/png": "[encoded data removed]",
      "text/plain": [
       "<Figure size 432x288 with 1 Axes>"
      ]
     },
     "metadata": {
      "needs_background": "light"
     },
     "output_type": "display_data"
    }
   ],
   "source": [
    "sns.histplot(data['Fare'])"
   ]
  },
  {
   "cell_type": "markdown",
   "metadata": {},
   "source": [
    "看了一下這個長條圖，我覺得大概可以分成三個區間，大概是0-35、35-100、100以上，我打算利用Pandas的cut把它劃成這三個區間以後，再去看他跟Survived的分佈有沒有相關："
   ]
  },
  {
   "cell_type": "code",
   "execution_count": 11,
   "metadata": {},
   "outputs": [
    {
     "data": {
      "text/plain": [
       "<AxesSubplot:xlabel='Fare', ylabel='count'>"
      ]
     },
     "execution_count": 11,
     "metadata": {},
     "output_type": "execute_result"
    },
    {
     "data": {
      "image/png": "[encoded data removed]",
      "text/plain": [
       "<Figure size 432x288 with 1 Axes>"
      ]
     },
     "metadata": {
      "needs_background": "light"
     },
     "output_type": "display_data"
    }
   ],
   "source": [
    "Fare = pd.cut(data['Fare'], [-1, 35, 100, 1000]) # 將Fare分成三個區間\n",
    "sns.countplot(Fare) # 觀察分成三個區間後的分布情況"
   ]
  },
  {
   "cell_type": "code",
   "execution_count": 12,
   "metadata": {},
   "outputs": [
    {
     "data": {
      "text/plain": [
       "<AxesSubplot:xlabel='Fare', ylabel='Survived'>"
      ]
     },
     "execution_count": 12,
     "metadata": {},
     "output_type": "execute_result"
    },
    {
     "data": {
      "image/png": "[encoded data removed]",
      "text/plain": [
       "<Figure size 432x288 with 1 Axes>"
      ]
     },
     "metadata": {
      "needs_background": "light"
     },
     "output_type": "display_data"
    }
   ],
   "source": [
    "sns.barplot(x = Fare, y = Survived) # 觀察這三個區間與Survived的關係"
   ]
  },
  {
   "cell_type": "markdown",
   "metadata": {},
   "source": [
    "可以看出，票價較高的乘客存活率似乎比較高。\n",
    "\n",
    "我們先保留這個結果，先來分析看看PClass是不是也會呈現類似的結果："
   ]
  },
  {
   "cell_type": "code",
   "execution_count": 13,
   "metadata": {},
   "outputs": [
    {
     "data": {
      "text/plain": [
       "<AxesSubplot:xlabel='Pclass', ylabel='count'>"
      ]
     },
     "execution_count": 13,
     "metadata": {},
     "output_type": "execute_result"
    },
    {
     "data": {
      "image/png": "[encoded data removed]",
      "text/plain": [
       "<Figure size 432x288 with 1 Axes>"
      ]
     },
     "metadata": {
      "needs_background": "light"
     },
     "output_type": "display_data"
    }
   ],
   "source": [
    "sns.countplot(data['Pclass']) # 觀察PClass的分布情況"
   ]
  },
  {
   "cell_type": "code",
   "execution_count": 14,
   "metadata": {},
   "outputs": [
    {
     "data": {
      "text/plain": [
       "<AxesSubplot:xlabel='Pclass', ylabel='Survived'>"
      ]
     },
     "execution_count": 14,
     "metadata": {},
     "output_type": "execute_result"
    },
    {
     "data": {
      "image/png": "[encoded data removed]",
      "text/plain": [
       "<Figure size 432x288 with 1 Axes>"
      ]
     },
     "metadata": {
      "needs_background": "light"
     },
     "output_type": "display_data"
    }
   ],
   "source": [
    "sns.barplot(x = data['Pclass'], y = Survived) # 觀察PClass與Survived的關係"
   ]
  },
  {
   "cell_type": "markdown",
   "metadata": {},
   "source": [
    "從這邊也可以看出，等級較高的乘客存活率也高蠻多的，由此可知我的推斷應該是正確的，票價較高、等級較高的乘客，可能會因為比較優先獲救，因此存活率較高。\n",
    "\n",
    "接下來看看SibSp和Parch的關係是不是也會像我所猜測的類似，先來看SibSp："
   ]
  },
  {
   "cell_type": "code",
   "execution_count": 15,
   "metadata": {},
   "outputs": [
    {
     "data": {
      "text/plain": [
       "<AxesSubplot:xlabel='SibSp', ylabel='count'>"
      ]
     },
     "execution_count": 15,
     "metadata": {},
     "output_type": "execute_result"
    },
    {
     "data": {
      "image/png": "[encoded data removed]",
      "text/plain": [
       "<Figure size 432x288 with 1 Axes>"
      ]
     },
     "metadata": {
      "needs_background": "light"
     },
     "output_type": "display_data"
    }
   ],
   "source": [
    "sns.countplot(data['SibSp']) # 觀察SibSp的分布情況"
   ]
  },
  {
   "cell_type": "code",
   "execution_count": 16,
   "metadata": {},
   "outputs": [
    {
     "data": {
      "text/plain": [
       "<AxesSubplot:xlabel='SibSp', ylabel='Survived'>"
      ]
     },
     "execution_count": 16,
     "metadata": {},
     "output_type": "execute_result"
    },
    {
     "data": {
      "image/png": "[encoded data removed]",
      "text/plain": [
       "<Figure size 432x288 with 1 Axes>"
      ]
     },
     "metadata": {
      "needs_background": "light"
     },
     "output_type": "display_data"
    }
   ],
   "source": [
    "sns.barplot(x = data['SibSp'], y = Survived) # 觀察SibSp與Survived的關係"
   ]
  },
  {
   "cell_type": "code",
   "execution_count": 17,
   "metadata": {},
   "outputs": [
    {
     "data": {
      "text/plain": [
       "<AxesSubplot:xlabel='Parch', ylabel='count'>"
      ]
     },
     "execution_count": 17,
     "metadata": {},
     "output_type": "execute_result"
    },
    {
     "data": {
      "image/png": "[encoded data removed]",
      "text/plain": [
       "<Figure size 432x288 with 1 Axes>"
      ]
     },
     "metadata": {
      "needs_background": "light"
     },
     "output_type": "display_data"
    }
   ],
   "source": [
    "sns.countplot(data['Parch']) # 觀察Parch的分布情況"
   ]
  },
  {
   "cell_type": "code",
   "execution_count": 18,
   "metadata": {},
   "outputs": [
    {
     "data": {
      "text/plain": [
       "<AxesSubplot:xlabel='Parch', ylabel='Survived'>"
      ]
     },
     "execution_count": 18,
     "metadata": {},
     "output_type": "execute_result"
    },
    {
     "data": {
      "image/png": "[encoded data removed]",
      "text/plain": [
       "<Figure size 432x288 with 1 Axes>"
      ]
     },
     "metadata": {
      "needs_background": "light"
     },
     "output_type": "display_data"
    }
   ],
   "source": [
    "sns.barplot(x = data['Parch'], y = Survived) # 觀察Parch與Survived的關係"
   ]
  },
  {
   "cell_type": "markdown",
   "metadata": {},
   "source": [
    "## 資料整合\n",
    "\n",
    "這邊發現一件事，兩個資料欄的分布其實還蠻類似的，讓我突然萌生出了一個想法，想要把這兩筆資料整合在一起，看看分布情況如何："
   ]
  },
  {
   "cell_type": "code",
   "execution_count": 19,
   "metadata": {},
   "outputs": [
    {
     "name": "stdout",
     "output_type": "stream",
     "text": [
      "     Pclass  Sex  Age  Family  Parch     Fare  Embarked\n",
      "0         3    1  1.0       1      0   7.2500         2\n",
      "1         1    0  1.0       1      0  71.2833         0\n",
      "2         3    0  1.0       0      0   7.9250         2\n",
      "3         1    0  1.0       1      0  53.1000         2\n",
      "4         3    1  1.0       0      0   8.0500         2\n",
      "..      ...  ...  ...     ...    ...      ...       ...\n",
      "886       2    1  1.0       0      0  13.0000         2\n",
      "887       1    0  1.0       0      0  30.0000         2\n",
      "888       3    0  1.0       3      2  23.4500         2\n",
      "889       1    1  1.0       0      0  30.0000         0\n",
      "890       3    1  1.0       0      0   7.7500         1\n",
      "\n",
      "[891 rows x 7 columns]\n"
     ]
    },
    {
     "data": {
      "text/plain": [
       "<AxesSubplot:xlabel='Family', ylabel='count'>"
      ]
     },
     "execution_count": 19,
     "metadata": {},
     "output_type": "execute_result"
    },
    {
     "data": {
      "image/png": "[encoded data removed]",
      "text/plain": [
       "<Figure size 432x288 with 1 Axes>"
      ]
     },
     "metadata": {
      "needs_background": "light"
     },
     "output_type": "display_data"
    }
   ],
   "source": [
    "data['SibSp'] = data['SibSp'] + data['Parch'] # 將Parch合併進SibSp\n",
    "data = data.rename(columns={'SibSp': 'Family'}) # 將SibSp欄為改名為Family\n",
    "\n",
    "##\n",
    "test_data['SibSp'] = test_data['SibSp'] + test_data['Parch'] # 將Parch合併進SibSp\n",
    "test_data = test_data.rename(columns={'SibSp': 'Family'}) # 將SibSp欄為改名為Family\n",
    "##\n",
    "\n",
    "print(data)\n",
    "sns.countplot(data['Family']) # 觀察Family的分布情況"
   ]
  },
  {
   "cell_type": "code",
   "execution_count": 20,
   "metadata": {},
   "outputs": [
    {
     "data": {
      "text/plain": [
       "<AxesSubplot:xlabel='Family', ylabel='Survived'>"
      ]
     },
     "execution_count": 20,
     "metadata": {},
     "output_type": "execute_result"
    },
    {
     "data": {
      "image/png": "[encoded data removed]",
      "text/plain": [
       "<Figure size 432x288 with 1 Axes>"
      ]
     },
     "metadata": {
      "needs_background": "light"
     },
     "output_type": "display_data"
    }
   ],
   "source": [
    "sns.barplot(x = data['Family'], y = Survived) # 觀察Family與Survived的關係"
   ]
  },
  {
   "cell_type": "markdown",
   "metadata": {},
   "source": [
    "感覺結果還可以，我打算就用這樣的合併資料來做後續的模型訓練。"
   ]
  },
  {
   "cell_type": "markdown",
   "metadata": {},
   "source": [
    "## 模型訓練\n",
    "\n",
    "請在此區塊後使用**一個或多個區塊**進行模型訓練，**需要**包含以下內容：\n",
    "\n",
    "- **選擇模型**\n",
    "    - 設定模型**超參數**\n",
    "    - **控制隨機亂數**\n",
    "- 計算**準確度（Accuracy）**\n",
    "    - 使用 **5-fold cross validation**，輸出**平均準確度**\n",
    "    - 最後再使用**所有**資料進行訓練並輸出**準確度**\n",
    "    - 準確度必須**超越**課堂使用的範例\n",
    "    \n",
    "如果有進行多於一個以上的實驗，**可以保留所有**的實驗結果，但是執行時間將會納入**全部**實驗。"
   ]
  },
  {
   "attachments": {
    "image-2.png": {
     "image/png": "[encoded data removed]"
    }
   },
   "cell_type": "markdown",
   "metadata": {},
   "source": [
    "## KNN\n",
    "\n",
    "KNN的運作原理，就是讓我們指定的點，去尋找K個附近離自己最近的鄰居，哪個類別的鄰居最多，那自己就會成為那個類別，像在下圖中，實線部分時K=3，而此時離自己最近的三個點有兩個是三角形，因此此時綠點就會被歸類在三角形，反之當K=5時，因為離自己最近的五個點當中有三個是正方形，因此就會被歸類到正方形。而這次的資料集，我們主要要做的是把這些人歸類到有沒有存活，可以看做是一個分類問題，因此這邊將KNN當做分類器使用(KNN也可以應用在回歸問題)。\n",
    "![image-2.png](attachment:image-2.png)\n",
    "\n",
    "## 超參數\n",
    "\n",
    "在KNN模型當中，最重要的就是K值的選擇，如果K值選得過低則有機會overfitting，因為他總是挑選離他最近的那一個點；反之如果K值選得過高則會underfitting，因為他會去找很大範圍的鄰居，就有點偏離了要\"找鄰居\"這件事情了。這邊我把K設定成5，也是它原本的預設值，去避免一些overfitting、underfitting的問題。\n",
    "\n",
    "另外還有個超參數叫weights，就是在K個點中，將不同類的點的距離權重相加，如果某一類的權重相加起來最大，那他就會成為那個類別，我們可以手動調整他為'uniform'，代表不參考這個超參數，或是調整為'distance'，代表會把距離權重考慮進來，自己發現當把weights考慮進來時，幾乎都會overfitting，因此這邊就把他調成uniform，代表不去考慮距離權重。"
   ]
  },
  {
   "cell_type": "code",
   "execution_count": 21,
   "metadata": {},
   "outputs": [
    {
     "name": "stdout",
     "output_type": "stream",
     "text": [
      "average train accuracy: 0.8296854562932378\n",
      "    min train accuracy: 0.8190743338008415\n",
      "    max train accuracy: 0.8429172510518934\n",
      "average valid accuracy: 0.7688406251961584\n",
      "    min valid accuracy: 0.7318435754189944\n",
      "    max valid accuracy: 0.8146067415730337\n"
     ]
    }
   ],
   "source": [
    "# 模型訓練\n",
    "\n",
    "from sklearn.model_selection import KFold             # 匯入 K 次交叉驗證工具\n",
    "from sklearn.metrics import accuracy_score            # 匯入準確度計算工具\n",
    "from sklearn.neighbors import KNeighborsClassifier\n",
    "\n",
    " \n",
    "kf = KFold(n_splits=5,                                # 設定 K 值, 代表將資料分成K個子集，這邊分成5份，即5-fold cross validation\n",
    "           shuffle=True,                              # 是否要打亂資料(隨機亂數)\n",
    "           random_state=777)                          # random seeds\n",
    "                                        \n",
    "kf.get_n_splits(data)                                 # 給予資料範圍\n",
    "\n",
    "train_acc_list = []                                   # 儲存每次訓練模型的準確度\n",
    "valid_acc_list = []                                   # 儲存每次驗證模型的準確度\n",
    "\n",
    "for train_index, valid_index in kf.split(data):       # 每個迴圈都會產生不同部份的資料\n",
    "    train_x_split = data.iloc[train_index]            # 產生訓練資料\n",
    "    train_y_split = Survived.iloc[train_index]        # 產生訓練資料標籤\n",
    "    valid_x_split = data.iloc[valid_index]            # 產生驗證資料\n",
    "    valid_y_split = Survived.iloc[valid_index]        # 產生驗證資料標籤\n",
    "    \n",
    "    model = KNeighborsClassifier(n_neighbors=5, weights='uniform')       # 挑選K值(KNN模型的超參數)\n",
    "    model.fit(train_x_split, train_y_split)           # 訓練KNN模型\n",
    "    \n",
    "    train_pred_y = model.predict(train_x_split)       # 確認模型是否訓練成功\n",
    "    train_acc = accuracy_score(train_y_split,         # 計算訓練資料準確度\n",
    "                               train_pred_y)\n",
    "    valid_pred_y = model.predict(valid_x_split)       # 驗證模型是否訓練成功\n",
    "    valid_acc = accuracy_score(valid_y_split,         # 計算驗證資料準確度\n",
    "                               valid_pred_y)\n",
    "    \n",
    "    train_acc_list.append(train_acc)\n",
    "    valid_acc_list.append(valid_acc)\n",
    "\n",
    "print((\n",
    "    'average train accuracy: {}\\n' +\n",
    "    '    min train accuracy: {}\\n' +\n",
    "    '    max train accuracy: {}\\n' +\n",
    "    'average valid accuracy: {}\\n' +\n",
    "    '    min valid accuracy: {}\\n' +\n",
    "    '    max valid accuracy: {}').format(\n",
    "    np.mean(train_acc_list),                          # 輸出平均訓練準確度\n",
    "    np.min(train_acc_list),                           # 輸出最低訓練準確度\n",
    "    np.max(train_acc_list),                           # 輸出最高訓練準確度\n",
    "    np.mean(valid_acc_list),                          # 輸出平均驗證準確度\n",
    "    np.min(valid_acc_list),                           # 輸出最低驗證準確度\n",
    "    np.max(valid_acc_list)                            # 輸出最高驗證準確度\n",
    "))"
   ]
  },
  {
   "cell_type": "markdown",
   "metadata": {},
   "source": [
    "## Overfitting & Underfitting\n",
    "\n",
    "接下來我們就來調整看看K值，看是否能夠導致模型出現overfitting(把K值調低)或是underfitting(把K值調高)的情況："
   ]
  },
  {
   "cell_type": "code",
   "execution_count": 22,
   "metadata": {},
   "outputs": [
    {
     "name": "stdout",
     "output_type": "stream",
     "text": [
      "test K = 1 for overfitting : \n",
      "average train accuracy: 0.9046046929416771\n",
      "    min train accuracy: 0.8892005610098177\n",
      "    max train accuracy: 0.9200561009817672\n",
      "average valid accuracy: 0.7306069926558283\n",
      "    min valid accuracy: 0.6966292134831461\n",
      "    max valid accuracy: 0.7640449438202247\n",
      "test K = 712 for underfitting : \n",
      "average train accuracy: 0.6161589737932773\n",
      "    min train accuracy: 0.6067415730337079\n",
      "    max train accuracy: 0.6409537166900421\n",
      "average valid accuracy: 0.6161195154102066\n",
      "    min valid accuracy: 0.5168539325842697\n",
      "    max valid accuracy: 0.6536312849162011\n"
     ]
    }
   ],
   "source": [
    "train_acc_list = []                                   # 儲存每次訓練模型的準確度\n",
    "valid_acc_list = []                                   # 儲存每次驗證模型的準確度\n",
    "\n",
    "for train_index, valid_index in kf.split(data):       # 每個迴圈都會產生不同部份的資料\n",
    "    train_x_split = data.iloc[train_index]            # 產生訓練資料\n",
    "    train_y_split = Survived.iloc[train_index]        # 產生訓練資料標籤\n",
    "    valid_x_split = data.iloc[valid_index]            # 產生驗證資料\n",
    "    valid_y_split = Survived.iloc[valid_index]        # 產生驗證資料標籤\n",
    "    \n",
    "    model = KNeighborsClassifier(n_neighbors=1, weights='uniform')       # 挑選K值(KNN模型的超參數)\n",
    "    model.fit(train_x_split, train_y_split)           # 訓練KNN模型\n",
    "    \n",
    "    train_pred_y = model.predict(train_x_split)       # 確認模型是否訓練成功\n",
    "    train_acc = accuracy_score(train_y_split,         # 計算訓練資料準確度\n",
    "                               train_pred_y)\n",
    "    valid_pred_y = model.predict(valid_x_split)       # 驗證模型是否訓練成功\n",
    "    valid_acc = accuracy_score(valid_y_split,         # 計算驗證資料準確度\n",
    "                               valid_pred_y)\n",
    "    \n",
    "    train_acc_list.append(train_acc)\n",
    "    valid_acc_list.append(valid_acc)\n",
    "\n",
    "print((\n",
    "    'test K = 1 for overfitting : \\n'\n",
    "    'average train accuracy: {}\\n' +\n",
    "    '    min train accuracy: {}\\n' +\n",
    "    '    max train accuracy: {}\\n' +\n",
    "    'average valid accuracy: {}\\n' +\n",
    "    '    min valid accuracy: {}\\n' +\n",
    "    '    max valid accuracy: {}').format(\n",
    "    np.mean(train_acc_list),                          # 輸出平均訓練準確度\n",
    "    np.min(train_acc_list),                           # 輸出最低訓練準確度\n",
    "    np.max(train_acc_list),                           # 輸出最高訓練準確度\n",
    "    np.mean(valid_acc_list),                          # 輸出平均驗證準確度\n",
    "    np.min(valid_acc_list),                           # 輸出最低驗證準確度\n",
    "    np.max(valid_acc_list)                            # 輸出最高驗證準確度\n",
    "))\n",
    "\n",
    "train_acc_list = []                                   # 儲存每次訓練模型的準確度\n",
    "valid_acc_list = []                                   # 儲存每次驗證模型的準確度\n",
    "\n",
    "for train_index, valid_index in kf.split(data):       # 每個迴圈都會產生不同部份的資料\n",
    "    train_x_split = data.iloc[train_index]            # 產生訓練資料\n",
    "    train_y_split = Survived.iloc[train_index]        # 產生訓練資料標籤\n",
    "    valid_x_split = data.iloc[valid_index]            # 產生驗證資料\n",
    "    valid_y_split = Survived.iloc[valid_index]        # 產生驗證資料標籤\n",
    "    \n",
    "    model = KNeighborsClassifier(n_neighbors=712, weights='uniform')       # 挑選K值(KNN模型的超參數)\n",
    "    model.fit(train_x_split, train_y_split)           # 訓練KNN模型\n",
    "    \n",
    "    train_pred_y = model.predict(train_x_split)       # 確認模型是否訓練成功\n",
    "    train_acc = accuracy_score(train_y_split,         # 計算訓練資料準確度\n",
    "                               train_pred_y)\n",
    "    valid_pred_y = model.predict(valid_x_split)       # 驗證模型是否訓練成功\n",
    "    valid_acc = accuracy_score(valid_y_split,         # 計算驗證資料準確度\n",
    "                               valid_pred_y)\n",
    "    \n",
    "    train_acc_list.append(train_acc)\n",
    "    valid_acc_list.append(valid_acc)\n",
    "\n",
    "print((\n",
    "    'test K = 712 for underfitting : \\n'\n",
    "    'average train accuracy: {}\\n' +\n",
    "    '    min train accuracy: {}\\n' +\n",
    "    '    max train accuracy: {}\\n' +\n",
    "    'average valid accuracy: {}\\n' +\n",
    "    '    min valid accuracy: {}\\n' +\n",
    "    '    max valid accuracy: {}').format(\n",
    "    np.mean(train_acc_list),                          # 輸出平均訓練準確度\n",
    "    np.min(train_acc_list),                           # 輸出最低訓練準確度\n",
    "    np.max(train_acc_list),                           # 輸出最高訓練準確度\n",
    "    np.mean(valid_acc_list),                          # 輸出平均驗證準確度\n",
    "    np.min(valid_acc_list),                           # 輸出最低驗證準確度\n",
    "    np.max(valid_acc_list)                            # 輸出最高驗證準確度\n",
    "))"
   ]
  },
  {
   "cell_type": "markdown",
   "metadata": {},
   "source": [
    "可以看到，當K為1的時候，train accuracy和valid accuracy幾乎差了快20%，呈現overfitting的情況。\n",
    "\n",
    "而當K為712時，train accuracy掉到了接近60%，呈現underfitting的情況。"
   ]
  },
  {
   "cell_type": "markdown",
   "metadata": {},
   "source": [
    "## K-Means\n",
    "\n",
    "因為前面用了KNN，所以突然又想要嘗試看看K-Means，他和KNN一樣可以用來做分類器使用，只是它的原理不同於KNN，它的原理是先看超參數'n_clusters'為多少，也就是去看他要分成K個分類，假設是2，然後就先隨機取兩點，接下來就去看所有點離這兩點的哪個比較近，聚在一起後就完成了第一次分類，分完第一次後就把這一個分類的中心點找出來，然後再重複剛剛的動作，不斷的做下去，直到收斂。"
   ]
  },
  {
   "cell_type": "code",
   "execution_count": 23,
   "metadata": {},
   "outputs": [
    {
     "name": "stdout",
     "output_type": "stream",
     "text": [
      "average train accuracy: 0.5342672991159367\n",
      "    min train accuracy: 0.3548387096774194\n",
      "    max train accuracy: 0.6629213483146067\n",
      "average valid accuracy: 0.5004833343795116\n",
      "    min valid accuracy: 0.29213483146067415\n",
      "    max valid accuracy: 0.6741573033707865\n"
     ]
    }
   ],
   "source": [
    "### 模型訓練\n",
    "\n",
    "from sklearn.model_selection import KFold             # 匯入 K 次交叉驗證工具\n",
    "from sklearn.metrics import accuracy_score            # 匯入準確度計算工具\n",
    "from sklearn import cluster                           # for K-means\n",
    " \n",
    "kf = KFold(n_splits=5,                                # 設定 K 值, 代表將資料分成K個子集，這邊分成5份，即5-fold cross validation\n",
    "           shuffle=True,                              # 是否要打亂資料(隨機亂數)\n",
    "           random_state=1012)                         # random seeds\n",
    "                                        \n",
    "kf.get_n_splits(data)                                 # 給予資料範圍\n",
    "\n",
    "train_acc_list = []                                   # 儲存每次訓練模型的準確度\n",
    "valid_acc_list = []                                   # 儲存每次驗證模型的準確度\n",
    "\n",
    "for train_index, valid_index in kf.split(data):       # 每個迴圈都會產生不同部份的資料\n",
    "    train_x_split = data.iloc[train_index]            # 產生訓練資料\n",
    "    train_y_split = Survived.iloc[train_index]        # 產生訓練資料標籤\n",
    "    valid_x_split = data.iloc[valid_index]            # 產生驗證資料\n",
    "    valid_y_split = Survived.iloc[valid_index]        # 產生驗證資料標籤\n",
    "    \n",
    "    model = cluster.KMeans(n_clusters = 2, random_state=1012)            # 建立K-means模型\n",
    "    model.fit(train_x_split)                          # 訓練K-means模型\n",
    "    \n",
    "    train_pred_y = model.predict(train_x_split)       # 確認模型是否訓練成功\n",
    "    train_acc = accuracy_score(train_y_split,         # 計算訓練資料準確度\n",
    "                               train_pred_y)\n",
    "    valid_pred_y = model.predict(valid_x_split)       # 驗證模型是否訓練成功\n",
    "    valid_acc = accuracy_score(valid_y_split,         # 計算驗證資料準確度\n",
    "                               valid_pred_y)\n",
    "    \n",
    "    train_acc_list.append(train_acc)\n",
    "    valid_acc_list.append(valid_acc)\n",
    "\n",
    "print((\n",
    "    'average train accuracy: {}\\n' +\n",
    "    '    min train accuracy: {}\\n' +\n",
    "    '    max train accuracy: {}\\n' +\n",
    "    'average valid accuracy: {}\\n' +\n",
    "    '    min valid accuracy: {}\\n' +\n",
    "    '    max valid accuracy: {}').format(\n",
    "    np.mean(train_acc_list),                          # 輸出平均訓練準確度\n",
    "    np.min(train_acc_list),                           # 輸出最低訓練準確度\n",
    "    np.max(train_acc_list),                           # 輸出最高訓練準確度\n",
    "    np.mean(valid_acc_list),                          # 輸出平均驗證準確度\n",
    "    np.min(valid_acc_list),                           # 輸出最低驗證準確度\n",
    "    np.max(valid_acc_list)                            # 輸出最高驗證準確度\n",
    "))"
   ]
  },
  {
   "cell_type": "markdown",
   "metadata": {},
   "source": [
    "這邊發現K-Means的成效並不是太好，會出現underfitting的情況。"
   ]
  },
  {
   "cell_type": "markdown",
   "metadata": {},
   "source": [
    "## Ensemble Learning - Gradient Boosting\n",
    "\n",
    "集成學習(Ensemble Learning)其實就是把很多比較弱的分類器放在一起，透過多個分類器組成一個強大的分類器去解決問題。\n",
    "\n",
    "而其中有種方法就是Boosting，每一個小分類器接在一起去訓練一個base learner，當上一個小分類器做完以後，下一個小分類器根據結果，去調整他的參數然後把模型做得更好，直到最後全部合起來就成為了一個強大的分類器，而這邊的Gradient Boosting則是用基於decision tree、gradient descent的方式去修正、調整權重跟bias。\n",
    "\n",
    "因為這個方法有牽扯到Gradient descent，可想而知他能調整的超參數一定有learning rate，而learning rate的大小即代表他每次要走多大步去接近min loss，可以推斷，當Learning rate調到超大的時候他應該預測結果會非常差(underfitting)，超小的話則是要花費非常多的時間，因此這邊我把他調成不大不小的0.2。"
   ]
  },
  {
   "cell_type": "code",
   "execution_count": 24,
   "metadata": {},
   "outputs": [
    {
     "name": "stdout",
     "output_type": "stream",
     "text": [
      "average train accuracy: 0.9099350741446963\n",
      "    min train accuracy: 0.8934081346423562\n",
      "    max train accuracy: 0.9200561009817672\n",
      "average valid accuracy: 0.8271797125102003\n",
      "    min valid accuracy: 0.8100558659217877\n",
      "    max valid accuracy: 0.848314606741573\n"
     ]
    }
   ],
   "source": [
    "### 模型訓練\n",
    "\n",
    "from sklearn.model_selection import KFold             # 匯入 K 次交叉驗證工具\n",
    "from sklearn.metrics import accuracy_score            # 匯入準確度計算工具\n",
    "from sklearn.ensemble import GradientBoostingClassifier   # Gradient Boosting\n",
    " \n",
    "kf = KFold(n_splits=5,                                # 設定 K 值, 代表將資料分成K個子集，這邊分成5份，即5-fold cross validation\n",
    "           shuffle=True,                              # 是否要打亂資料(隨機亂數)\n",
    "           random_state=1012)                         # random seeds\n",
    "                                        \n",
    "kf.get_n_splits(data)                                 # 給予資料範圍\n",
    "\n",
    "train_acc_list = []                                   # 儲存每次訓練模型的準確度\n",
    "valid_acc_list = []                                   # 儲存每次驗證模型的準確度\n",
    "\n",
    "for train_index, valid_index in kf.split(data):       # 每個迴圈都會產生不同部份的資料\n",
    "    train_x_split = data.iloc[train_index]            # 產生訓練資料\n",
    "    train_y_split = Survived.iloc[train_index]        # 產生訓練資料標籤\n",
    "    valid_x_split = data.iloc[valid_index]            # 產生驗證資料\n",
    "    valid_y_split = Survived.iloc[valid_index]        # 產生驗證資料標籤\n",
    "    \n",
    "    model = GradientBoostingClassifier(learning_rate=0.2, random_state=1012) # 建立Gradient Boosting模型\n",
    "    model.fit(train_x_split, train_y_split)               # 訓練Gradient Boosting模型\n",
    "    \n",
    "    train_pred_y = model.predict(train_x_split)       # 確認模型是否訓練成功\n",
    "    train_acc = accuracy_score(train_y_split,         # 計算訓練資料準確度\n",
    "                               train_pred_y)\n",
    "    valid_pred_y = model.predict(valid_x_split)       # 驗證模型是否訓練成功\n",
    "    valid_acc = accuracy_score(valid_y_split,         # 計算驗證資料準確度\n",
    "                               valid_pred_y)\n",
    "    \n",
    "    train_acc_list.append(train_acc)\n",
    "    valid_acc_list.append(valid_acc)\n",
    "\n",
    "print((\n",
    "    'average train accuracy: {}\\n' +\n",
    "    '    min train accuracy: {}\\n' +\n",
    "    '    max train accuracy: {}\\n' +\n",
    "    'average valid accuracy: {}\\n' +\n",
    "    '    min valid accuracy: {}\\n' +\n",
    "    '    max valid accuracy: {}').format(\n",
    "    np.mean(train_acc_list),                          # 輸出平均訓練準確度\n",
    "    np.min(train_acc_list),                           # 輸出最低訓練準確度\n",
    "    np.max(train_acc_list),                           # 輸出最高訓練準確度\n",
    "    np.mean(valid_acc_list),                          # 輸出平均驗證準確度\n",
    "    np.min(valid_acc_list),                           # 輸出最低驗證準確度\n",
    "    np.max(valid_acc_list)                            # 輸出最高驗證準確度\n",
    "))"
   ]
  },
  {
   "cell_type": "markdown",
   "metadata": {},
   "source": [
    "訓練出來的結果還蠻不錯的，但其實有點overfitting的情況。\n",
    "\n",
    "接下來試試看上面所說的，如果把Learning rate調到5，會不會造成underfitting的情況："
   ]
  },
  {
   "cell_type": "code",
   "execution_count": 25,
   "metadata": {},
   "outputs": [
    {
     "name": "stdout",
     "output_type": "stream",
     "text": [
      "test learning rate = 5    \n",
      "average train accuracy: 0.3919461209953196\n",
      "    min train accuracy: 0.23422159887798036\n",
      "    max train accuracy: 0.7307152875175316\n",
      "average valid accuracy: 0.41643964597325966\n",
      "    min valid accuracy: 0.19101123595505617\n",
      "    max valid accuracy: 0.7415730337078652\n"
     ]
    }
   ],
   "source": [
    "train_acc_list = []                                   # 儲存每次訓練模型的準確度\n",
    "valid_acc_list = []                                   # 儲存每次驗證模型的準確度\n",
    "\n",
    "for train_index, valid_index in kf.split(data):       # 每個迴圈都會產生不同部份的資料\n",
    "    train_x_split = data.iloc[train_index]            # 產生訓練資料\n",
    "    train_y_split = Survived.iloc[train_index]        # 產生訓練資料標籤\n",
    "    valid_x_split = data.iloc[valid_index]            # 產生驗證資料\n",
    "    valid_y_split = Survived.iloc[valid_index]        # 產生驗證資料標籤\n",
    "    \n",
    "    model = GradientBoostingClassifier(learning_rate=5, random_state=1012) # 建立Gradient Boosting模型\n",
    "    model.fit(train_x_split, train_y_split)               # 訓練Gradient Boosting模型\n",
    "    \n",
    "    train_pred_y = model.predict(train_x_split)       # 確認模型是否訓練成功\n",
    "    train_acc = accuracy_score(train_y_split,         # 計算訓練資料準確度\n",
    "                               train_pred_y)\n",
    "    valid_pred_y = model.predict(valid_x_split)       # 驗證模型是否訓練成功\n",
    "    valid_acc = accuracy_score(valid_y_split,         # 計算驗證資料準確度\n",
    "                               valid_pred_y)\n",
    "    \n",
    "    train_acc_list.append(train_acc)\n",
    "    valid_acc_list.append(valid_acc)\n",
    "\n",
    "print((\n",
    "    'test learning rate = 5    \\n'\n",
    "    'average train accuracy: {}\\n' +\n",
    "    '    min train accuracy: {}\\n' +\n",
    "    '    max train accuracy: {}\\n' +\n",
    "    'average valid accuracy: {}\\n' +\n",
    "    '    min valid accuracy: {}\\n' +\n",
    "    '    max valid accuracy: {}').format(\n",
    "    np.mean(train_acc_list),                          # 輸出平均訓練準確度\n",
    "    np.min(train_acc_list),                           # 輸出最低訓練準確度\n",
    "    np.max(train_acc_list),                           # 輸出最高訓練準確度\n",
    "    np.mean(valid_acc_list),                          # 輸出平均驗證準確度\n",
    "    np.min(valid_acc_list),                           # 輸出最低驗證準確度\n",
    "    np.max(valid_acc_list)                            # 輸出最高驗證準確度\n",
    "))"
   ]
  },
  {
   "cell_type": "markdown",
   "metadata": {},
   "source": [
    "果然出現了underfitting的情況，證實了我的推斷。"
   ]
  },
  {
   "cell_type": "markdown",
   "metadata": {},
   "source": [
    "## 加分題\n",
    "\n",
    "請將訓練後的模型套用至 [Kaggle Titanic](https://www.kaggle.com/c/titanic/overview) `test.csv` 上，並上傳至 Kaggle 進行評分，**截圖**後**嵌入**至 `markdown` 區塊中。"
   ]
  },
  {
   "cell_type": "markdown",
   "metadata": {},
   "source": [
    "使用表現最好的Gradient Boosting模型來train："
   ]
  },
  {
   "cell_type": "code",
   "execution_count": 26,
   "metadata": {},
   "outputs": [
    {
     "name": "stdout",
     "output_type": "stream",
     "text": [
      "<class 'pandas.core.frame.DataFrame'>\n",
      "RangeIndex: 418 entries, 0 to 417\n",
      "Data columns (total 7 columns):\n",
      " #   Column    Non-Null Count  Dtype  \n",
      "---  ------    --------------  -----  \n",
      " 0   Pclass    418 non-null    int64  \n",
      " 1   Sex       418 non-null    int32  \n",
      " 2   Age       418 non-null    float64\n",
      " 3   Family    418 non-null    int64  \n",
      " 4   Parch     418 non-null    int64  \n",
      " 5   Fare      417 non-null    float64\n",
      " 6   Embarked  418 non-null    int32  \n",
      "dtypes: float64(2), int32(2), int64(3)\n",
      "memory usage: 19.7 KB\n"
     ]
    }
   ],
   "source": [
    "test_data.info()"
   ]
  },
  {
   "cell_type": "code",
   "execution_count": 27,
   "metadata": {},
   "outputs": [
    {
     "name": "stdout",
     "output_type": "stream",
     "text": [
      "<class 'pandas.core.frame.DataFrame'>\n",
      "RangeIndex: 891 entries, 0 to 890\n",
      "Data columns (total 7 columns):\n",
      " #   Column    Non-Null Count  Dtype  \n",
      "---  ------    --------------  -----  \n",
      " 0   Pclass    891 non-null    int64  \n",
      " 1   Sex       891 non-null    int32  \n",
      " 2   Age       891 non-null    float64\n",
      " 3   Family    891 non-null    int64  \n",
      " 4   Parch     891 non-null    int64  \n",
      " 5   Fare      891 non-null    float64\n",
      " 6   Embarked  891 non-null    int32  \n",
      "dtypes: float64(2), int32(2), int64(3)\n",
      "memory usage: 41.9 KB\n"
     ]
    }
   ],
   "source": [
    "data.info()"
   ]
  },
  {
   "cell_type": "code",
   "execution_count": 28,
   "metadata": {},
   "outputs": [],
   "source": [
    "### 模型訓練\n",
    "\n",
    "from sklearn.model_selection import KFold             # 匯入 K 次交叉驗證工具\n",
    "from sklearn.metrics import accuracy_score            # 匯入準確度計算工具\n",
    "from sklearn.ensemble import GradientBoostingClassifier   # Gradient Boosting\n",
    "from sklearn.impute import SimpleImputer              # 匯入填補缺失值的工具\n",
    "\n",
    "imputer = SimpleImputer(strategy='median')            # 創造 imputer 並設定填補策略\n",
    "fare = test_data['Fare'].to_numpy().reshape(-1, 1)\n",
    "imputer.fit(fare)                                      # 根據資料學習需要填補的值\n",
    "test_data['Fare'] = imputer.transform(fare)               # 填補缺失值\n",
    " \n",
    "kf = KFold(n_splits=5,                                # 設定 K 值, 代表將資料分成K個子集，這邊分成5份，即5-fold cross validation\n",
    "           shuffle=True,                              # 是否要打亂資料(隨機亂數)\n",
    "           random_state=1012)                         # random seeds\n",
    "                                        \n",
    "kf.get_n_splits(data)                                 # 給予資料範圍\n",
    "\n",
    "train_acc_list = []                                   # 儲存每次訓練模型的準確度\n",
    "valid_acc_list = []                                   # 儲存每次驗證模型的準確度\n",
    "\n",
    "for train_index, valid_index in kf.split(data):       # 每個迴圈都會產生不同部份的資料\n",
    "    train_x_split = data.iloc[train_index]            # 產生訓練資料\n",
    "    train_y_split = Survived.iloc[train_index]        # 產生訓練資料標籤\n",
    "    valid_x_split = data.iloc[valid_index]            # 產生驗證資料\n",
    "    valid_y_split = Survived.iloc[valid_index]        # 產生驗證資料標籤\n",
    "    \n",
    "    model = GradientBoostingClassifier(learning_rate=0.2, random_state=1012) # 建立Gradient Boosting模型\n",
    "    model.fit(train_x_split, train_y_split)               # 訓練Gradient Boosting模型\n",
    "\n",
    "predict = model.predict(test_data) # 將模型套用在test_data上，並將結果存入predict中\n",
    "answer = pd.DataFrame({'PassengerId':test_PID, 'Survived':predict}) # 存成答案形式\n",
    "answer.to_csv('submission.csv', index=False) # 存成csv檔上傳Kaggle"
   ]
  },
  {
   "attachments": {
    "image.png": {
     "image/png": "[encoded data removed]"
    }
   },
   "cell_type": "markdown",
   "metadata": {},
   "source": [
    "## Kaggle\n",
    "![image.png](attachment:image.png)"
   ]
  },
  {
   "cell_type": "code",
   "execution_count": 29,
   "metadata": {},
   "outputs": [
    {
     "name": "stdout",
     "output_type": "stream",
     "text": [
      "total execution time: 7.583209991455078\n"
     ]
    }
   ],
   "source": [
    "# 請勿更動此區塊程式碼\n",
    "\n",
    "EXECUTION_END_TIME = time.time() # 計算執行時間\n",
    "print('total execution time: {}'.format(EXECUTION_END_TIME - EXECUTION_START_TIME))"
   ]
  }
 ],
 "metadata": {
  "kernelspec": {
   "display_name": "Python 3",
   "language": "python",
   "name": "python3"
  },
  "language_info": {
   "codemirror_mode": {
    "name": "ipython",
    "version": 3
   },
   "file_extension": ".py",
   "mimetype": "text/x-python",
   "name": "python",
   "nbconvert_exporter": "python",
   "pygments_lexer": "ipython3",
   "version": "3.8.8"
  }
 },
 "nbformat": 4,
 "nbformat_minor": 4
}
